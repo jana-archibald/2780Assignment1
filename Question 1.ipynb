{
 "cells": [
  {
   "cell_type": "markdown",
   "id": "ebf3b0f0",
   "metadata": {},
   "source": [
    "Suppose 60% of students prefer to work in groups.\n",
    "\n",
    "I will be assigned a class of 50 randomly chosen students.\n",
    "\n",
    "What is the probability that most (more than 50%) of my students prefer group work?\n",
    "\n",
    "Show your work (and include any code that you may have used)."
   ]
  },
  {
   "cell_type": "code",
   "execution_count": null,
   "id": "4b3bd6c9",
   "metadata": {},
   "outputs": [],
   "source": []
  }
 ],
 "metadata": {
  "kernelspec": {
   "display_name": "R",
   "language": "R",
   "name": "ir"
  },
  "language_info": {
   "codemirror_mode": "r",
   "file_extension": ".r",
   "mimetype": "text/x-r-source",
   "name": "R",
   "pygments_lexer": "r",
   "version": "4.0.5"
  }
 },
 "nbformat": 4,
 "nbformat_minor": 5
}
