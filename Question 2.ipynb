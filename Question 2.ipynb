{
 "cells": [
  {
   "cell_type": "markdown",
   "id": "5f450eca",
   "metadata": {},
   "source": [
    "In a random sample of 300 parents in a school district, 123 support a change in bell times. The purpose of the survey was to estimate the proportion of all parents in the school district who support the change in bell times.\n",
    "\n",
    "\n",
    "a. What is the research question of interest for this survey?\n",
    "\n",
    "\n",
    "\n",
    "b. Compute the 90% confidence interval for the population paramenter\n",
    "\n",
    "\n",
    "\n",
    "c. Write a sentence summarizing the results of this study."
   ]
  },
  {
   "cell_type": "code",
   "execution_count": null,
   "id": "41ada155",
   "metadata": {},
   "outputs": [],
   "source": []
  }
 ],
 "metadata": {
  "kernelspec": {
   "display_name": "R",
   "language": "R",
   "name": "ir"
  },
  "language_info": {
   "codemirror_mode": "r",
   "file_extension": ".r",
   "mimetype": "text/x-r-source",
   "name": "R",
   "pygments_lexer": "r",
   "version": "4.0.5"
  }
 },
 "nbformat": 4,
 "nbformat_minor": 5
}
