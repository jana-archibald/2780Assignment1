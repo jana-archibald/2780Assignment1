{
 "cells": [
  {
   "cell_type": "markdown",
   "id": "e9275e5d",
   "metadata": {},
   "source": [
    "Medical researchers have a new treatment for high blood pressure. If this treatment is effective more than 70% of the time it will replace an older treatment.\n",
    "\n",
    "To test this the researchers plan a clinical trial in which 200 patients will be given this new treatment.\n",
    "\n",
    "a. (Prepare) What is the parameter of interest? Write out the hypothesis in words and as equations.  We will use $\\alpha=0.05$\n",
    "\n",
    "b. (Check) Will the distribution of $\\hat p $ be nearly normal if the null hypothesis is true? State how you know.\n",
    "\n",
    "c. (Calculate)  The treatment was effective in 150 of the study participants.  Compute the standard error, the z score, and the p-value (you may use the binomial distribution or the normal distribution.)\n",
    "\n",
    "d. (Conclude) What is the conclusion of the hypothesis test. You may need two or three sentences. You must refer to the p-value, $\\alpha$ and the parameters in this particular situation.\n"
   ]
  },
  {
   "cell_type": "code",
   "execution_count": null,
   "id": "c1cc17c9",
   "metadata": {},
   "outputs": [],
   "source": []
  }
 ],
 "metadata": {
  "kernelspec": {
   "display_name": "R",
   "language": "R",
   "name": "ir"
  },
  "language_info": {
   "codemirror_mode": "r",
   "file_extension": ".r",
   "mimetype": "text/x-r-source",
   "name": "R",
   "pygments_lexer": "r",
   "version": "4.0.5"
  }
 },
 "nbformat": 4,
 "nbformat_minor": 5
}
